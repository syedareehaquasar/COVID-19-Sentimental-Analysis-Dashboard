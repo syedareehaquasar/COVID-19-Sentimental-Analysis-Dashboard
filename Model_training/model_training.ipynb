{
 "cells": [
  {
   "cell_type": "code",
   "execution_count": 1,
   "metadata": {},
   "outputs": [],
   "source": [
    "# Importing Libraries\n",
    "import pandas as pd\n",
    "import numpy as np\n",
    "import matplotlib.pyplot as plt\n",
    "import seaborn as sns\n",
    "from textblob import TextBlob\n",
    "import re\n",
    "import nltk\n",
    "# nltk.download('stopwords')\n",
    "from nltk.corpus import stopwords\n",
    "from nltk.stem.porter import PorterStemmer\n",
    "from sklearn.metrics import accuracy_score, f1_score, confusion_matrix, precision_score, recall_score\n",
    "from sklearn.model_selection import train_test_split\n",
    "from sklearn.naive_bayes import MultinomialNB\n",
    "from sklearn.ensemble import RandomForestClassifier\n",
    "from sklearn.linear_model import LogisticRegression\n",
    "from sklearn.neighbors import KNeighborsClassifier\n",
    "from sklearn.tree import DecisionTreeClassifier\n"
   ]
  },
  {
   "cell_type": "code",
   "execution_count": 2,
   "metadata": {},
   "outputs": [],
   "source": [
    "# Loading Data\n",
    "df = pd.read_csv('COVID-19_Sentiments.csv')"
   ]
  },
  {
   "cell_type": "code",
   "execution_count": 3,
   "metadata": {},
   "outputs": [
    {
     "data": {
      "text/html": [
       "<div>\n",
       "<style scoped>\n",
       "    .dataframe tbody tr th:only-of-type {\n",
       "        vertical-align: middle;\n",
       "    }\n",
       "\n",
       "    .dataframe tbody tr th {\n",
       "        vertical-align: top;\n",
       "    }\n",
       "\n",
       "    .dataframe thead th {\n",
       "        text-align: right;\n",
       "    }\n",
       "</style>\n",
       "<table border=\"1\" class=\"dataframe\">\n",
       "  <thead>\n",
       "    <tr style=\"text-align: right;\">\n",
       "      <th></th>\n",
       "      <th>Text_Id</th>\n",
       "      <th>Text</th>\n",
       "      <th>Date</th>\n",
       "      <th>Location</th>\n",
       "      <th>Sentiments</th>\n",
       "    </tr>\n",
       "  </thead>\n",
       "  <tbody>\n",
       "    <tr>\n",
       "      <th>0</th>\n",
       "      <td>1241032866567356417</td>\n",
       "      <td>RT @theskindoctor13: Shaheen Bagh is still on....</td>\n",
       "      <td>Fri Mar 20 16:04:27 +0000 2020</td>\n",
       "      <td>Uttar Pradesh, India</td>\n",
       "      <td>0.000</td>\n",
       "    </tr>\n",
       "    <tr>\n",
       "      <th>1</th>\n",
       "      <td>1241032867699765249</td>\n",
       "      <td>RT @theskindoctor13: Shaheen Bagh is still on....</td>\n",
       "      <td>Fri Mar 20 16:04:27 +0000 2020</td>\n",
       "      <td>Mumbai</td>\n",
       "      <td>0.000</td>\n",
       "    </tr>\n",
       "    <tr>\n",
       "      <th>2</th>\n",
       "      <td>1241032875102703616</td>\n",
       "      <td>RT @SmokingSkills_: Daughter of an IAS, son of...</td>\n",
       "      <td>Fri Mar 20 16:04:29 +0000 2020</td>\n",
       "      <td>Jodhpur, India</td>\n",
       "      <td>0.350</td>\n",
       "    </tr>\n",
       "    <tr>\n",
       "      <th>3</th>\n",
       "      <td>1241032877099237379</td>\n",
       "      <td>RT @narendramodi: The young actors have someth...</td>\n",
       "      <td>Fri Mar 20 16:04:29 +0000 2020</td>\n",
       "      <td>Gurugram, Bharat</td>\n",
       "      <td>0.125</td>\n",
       "    </tr>\n",
       "    <tr>\n",
       "      <th>4</th>\n",
       "      <td>1241032870405128192</td>\n",
       "      <td>RT @theskindoctor13: Shaheen Bagh is still on....</td>\n",
       "      <td>Fri Mar 20 16:04:28 +0000 2020</td>\n",
       "      <td>New Delhi, India</td>\n",
       "      <td>0.000</td>\n",
       "    </tr>\n",
       "  </tbody>\n",
       "</table>\n",
       "</div>"
      ],
      "text/plain": [
       "               Text_Id                                               Text  \\\n",
       "0  1241032866567356417  RT @theskindoctor13: Shaheen Bagh is still on....   \n",
       "1  1241032867699765249  RT @theskindoctor13: Shaheen Bagh is still on....   \n",
       "2  1241032875102703616  RT @SmokingSkills_: Daughter of an IAS, son of...   \n",
       "3  1241032877099237379  RT @narendramodi: The young actors have someth...   \n",
       "4  1241032870405128192  RT @theskindoctor13: Shaheen Bagh is still on....   \n",
       "\n",
       "                             Date              Location  Sentiments  \n",
       "0  Fri Mar 20 16:04:27 +0000 2020  Uttar Pradesh, India       0.000  \n",
       "1  Fri Mar 20 16:04:27 +0000 2020                Mumbai       0.000  \n",
       "2  Fri Mar 20 16:04:29 +0000 2020        Jodhpur, India       0.350  \n",
       "3  Fri Mar 20 16:04:29 +0000 2020      Gurugram, Bharat       0.125  \n",
       "4  Fri Mar 20 16:04:28 +0000 2020      New Delhi, India       0.000  "
      ]
     },
     "execution_count": 3,
     "metadata": {},
     "output_type": "execute_result"
    }
   ],
   "source": [
    "df.head()"
   ]
  },
  {
   "cell_type": "code",
   "execution_count": 4,
   "metadata": {},
   "outputs": [],
   "source": [
    "# Modifying Date\n",
    "df['Date'] = pd.to_datetime(df['Date']).dt.date"
   ]
  },
  {
   "cell_type": "code",
   "execution_count": 5,
   "metadata": {},
   "outputs": [],
   "source": [
    "# Creating new_sentiments column out of polarities in sentiments\n",
    "New_Sentiments_ls = []\n",
    "\n",
    "for senti in df['Sentiments']:\n",
    "    if senti < 0:\n",
    "        New_Sentiments_ls.append(-1)\n",
    "    elif senti > 0:\n",
    "        New_Sentiments_ls.append(1)\n",
    "    else:\n",
    "        New_Sentiments_ls.append(0)\n",
    "\n",
    "New_Sentiments_ls = pd.DataFrame(New_Sentiments_ls, columns=['New_Sentiments'])\n",
    "\n",
    "df = pd.concat([df, New_Sentiments_ls], axis=1)"
   ]
  },
  {
   "cell_type": "code",
   "execution_count": 6,
   "metadata": {},
   "outputs": [
    {
     "data": {
      "text/html": [
       "<div>\n",
       "<style scoped>\n",
       "    .dataframe tbody tr th:only-of-type {\n",
       "        vertical-align: middle;\n",
       "    }\n",
       "\n",
       "    .dataframe tbody tr th {\n",
       "        vertical-align: top;\n",
       "    }\n",
       "\n",
       "    .dataframe thead th {\n",
       "        text-align: right;\n",
       "    }\n",
       "</style>\n",
       "<table border=\"1\" class=\"dataframe\">\n",
       "  <thead>\n",
       "    <tr style=\"text-align: right;\">\n",
       "      <th></th>\n",
       "      <th>Text_Id</th>\n",
       "      <th>Text</th>\n",
       "      <th>Date</th>\n",
       "      <th>Location</th>\n",
       "      <th>Sentiments</th>\n",
       "      <th>New_Sentiments</th>\n",
       "    </tr>\n",
       "  </thead>\n",
       "  <tbody>\n",
       "    <tr>\n",
       "      <th>0</th>\n",
       "      <td>1241032866567356417</td>\n",
       "      <td>RT @theskindoctor13: Shaheen Bagh is still on....</td>\n",
       "      <td>2020-03-20</td>\n",
       "      <td>Uttar Pradesh, India</td>\n",
       "      <td>0.000</td>\n",
       "      <td>0</td>\n",
       "    </tr>\n",
       "    <tr>\n",
       "      <th>1</th>\n",
       "      <td>1241032867699765249</td>\n",
       "      <td>RT @theskindoctor13: Shaheen Bagh is still on....</td>\n",
       "      <td>2020-03-20</td>\n",
       "      <td>Mumbai</td>\n",
       "      <td>0.000</td>\n",
       "      <td>0</td>\n",
       "    </tr>\n",
       "    <tr>\n",
       "      <th>2</th>\n",
       "      <td>1241032875102703616</td>\n",
       "      <td>RT @SmokingSkills_: Daughter of an IAS, son of...</td>\n",
       "      <td>2020-03-20</td>\n",
       "      <td>Jodhpur, India</td>\n",
       "      <td>0.350</td>\n",
       "      <td>1</td>\n",
       "    </tr>\n",
       "    <tr>\n",
       "      <th>3</th>\n",
       "      <td>1241032877099237379</td>\n",
       "      <td>RT @narendramodi: The young actors have someth...</td>\n",
       "      <td>2020-03-20</td>\n",
       "      <td>Gurugram, Bharat</td>\n",
       "      <td>0.125</td>\n",
       "      <td>1</td>\n",
       "    </tr>\n",
       "    <tr>\n",
       "      <th>4</th>\n",
       "      <td>1241032870405128192</td>\n",
       "      <td>RT @theskindoctor13: Shaheen Bagh is still on....</td>\n",
       "      <td>2020-03-20</td>\n",
       "      <td>New Delhi, India</td>\n",
       "      <td>0.000</td>\n",
       "      <td>0</td>\n",
       "    </tr>\n",
       "  </tbody>\n",
       "</table>\n",
       "</div>"
      ],
      "text/plain": [
       "               Text_Id                                               Text  \\\n",
       "0  1241032866567356417  RT @theskindoctor13: Shaheen Bagh is still on....   \n",
       "1  1241032867699765249  RT @theskindoctor13: Shaheen Bagh is still on....   \n",
       "2  1241032875102703616  RT @SmokingSkills_: Daughter of an IAS, son of...   \n",
       "3  1241032877099237379  RT @narendramodi: The young actors have someth...   \n",
       "4  1241032870405128192  RT @theskindoctor13: Shaheen Bagh is still on....   \n",
       "\n",
       "         Date              Location  Sentiments  New_Sentiments  \n",
       "0  2020-03-20  Uttar Pradesh, India       0.000               0  \n",
       "1  2020-03-20                Mumbai       0.000               0  \n",
       "2  2020-03-20        Jodhpur, India       0.350               1  \n",
       "3  2020-03-20      Gurugram, Bharat       0.125               1  \n",
       "4  2020-03-20      New Delhi, India       0.000               0  "
      ]
     },
     "execution_count": 6,
     "metadata": {},
     "output_type": "execute_result"
    }
   ],
   "source": [
    "df.head()"
   ]
  },
  {
   "cell_type": "markdown",
   "metadata": {},
   "source": [
    "## Cleaning the text"
   ]
  },
  {
   "cell_type": "code",
   "execution_count": 7,
   "metadata": {},
   "outputs": [],
   "source": [
    "# Cleaning the text\n",
    "def func(x):\n",
    "    try:\n",
    "        trial = x.split(':')[1]\n",
    "        return trial\n",
    "    except:\n",
    "        return x\n",
    "df['Regenerated_Text'] = df['Text'].apply(lambda x: func(x))"
   ]
  },
  {
   "cell_type": "code",
   "execution_count": 8,
   "metadata": {},
   "outputs": [],
   "source": [
    "# Converting to lower case\n",
    "df['Regenerated_Text'] = df['Regenerated_Text'].apply(lambda x: x.lower())\n",
    "\n",
    "# Removing urls\n",
    "df['Regenerated_Text'] = df['Regenerated_Text'].apply(lambda x: x.split('https')[0])\n",
    "df['Regenerated_Text'] = df['Regenerated_Text'].apply(lambda x: x.split('http')[0])\n",
    "\n",
    "# Converting #word into just word\n",
    "df['Regenerated_Text'] = df['Regenerated_Text'].str.replace('#', '')\n",
    "\n",
    "# Remove @username\n",
    "df['Regenerated_Text'] = df['Regenerated_Text'].str.replace('@[^\\s]+','')\n",
    "\n",
    "# Removing unwanted char\n",
    "df['Regenerated_Text'] = df['Regenerated_Text'].str.replace(\"(@[A-Za-z0-9]+)|([^0-9A-Za-z \\t])|(\\w+:\\/\\/\\S+)\", \" \")    \n",
    "\n",
    "# Remove additional white spaces\n",
    "df['Regenerated_Text'] = df['Regenerated_Text'].str.replace('[\\s]+', ' ')"
   ]
  },
  {
   "cell_type": "code",
   "execution_count": 9,
   "metadata": {},
   "outputs": [
    {
     "data": {
      "text/html": [
       "<div>\n",
       "<style scoped>\n",
       "    .dataframe tbody tr th:only-of-type {\n",
       "        vertical-align: middle;\n",
       "    }\n",
       "\n",
       "    .dataframe tbody tr th {\n",
       "        vertical-align: top;\n",
       "    }\n",
       "\n",
       "    .dataframe thead th {\n",
       "        text-align: right;\n",
       "    }\n",
       "</style>\n",
       "<table border=\"1\" class=\"dataframe\">\n",
       "  <thead>\n",
       "    <tr style=\"text-align: right;\">\n",
       "      <th></th>\n",
       "      <th>Text_Id</th>\n",
       "      <th>Text</th>\n",
       "      <th>Date</th>\n",
       "      <th>Location</th>\n",
       "      <th>Sentiments</th>\n",
       "      <th>New_Sentiments</th>\n",
       "      <th>Regenerated_Text</th>\n",
       "    </tr>\n",
       "  </thead>\n",
       "  <tbody>\n",
       "    <tr>\n",
       "      <th>0</th>\n",
       "      <td>1241032866567356417</td>\n",
       "      <td>RT @theskindoctor13: Shaheen Bagh is still on....</td>\n",
       "      <td>2020-03-20</td>\n",
       "      <td>Uttar Pradesh, India</td>\n",
       "      <td>0.000</td>\n",
       "      <td>0</td>\n",
       "      <td>shaheen bagh is still on mosques are open mui...</td>\n",
       "    </tr>\n",
       "    <tr>\n",
       "      <th>1</th>\n",
       "      <td>1241032867699765249</td>\n",
       "      <td>RT @theskindoctor13: Shaheen Bagh is still on....</td>\n",
       "      <td>2020-03-20</td>\n",
       "      <td>Mumbai</td>\n",
       "      <td>0.000</td>\n",
       "      <td>0</td>\n",
       "      <td>shaheen bagh is still on mosques are open mui...</td>\n",
       "    </tr>\n",
       "    <tr>\n",
       "      <th>2</th>\n",
       "      <td>1241032875102703616</td>\n",
       "      <td>RT @SmokingSkills_: Daughter of an IAS, son of...</td>\n",
       "      <td>2020-03-20</td>\n",
       "      <td>Jodhpur, India</td>\n",
       "      <td>0.350</td>\n",
       "      <td>1</td>\n",
       "      <td>daughter of an ias son of a kolkata officer s...</td>\n",
       "    </tr>\n",
       "    <tr>\n",
       "      <th>3</th>\n",
       "      <td>1241032877099237379</td>\n",
       "      <td>RT @narendramodi: The young actors have someth...</td>\n",
       "      <td>2020-03-20</td>\n",
       "      <td>Gurugram, Bharat</td>\n",
       "      <td>0.125</td>\n",
       "      <td>1</td>\n",
       "      <td>the young actors have something to say its ti...</td>\n",
       "    </tr>\n",
       "    <tr>\n",
       "      <th>4</th>\n",
       "      <td>1241032870405128192</td>\n",
       "      <td>RT @theskindoctor13: Shaheen Bagh is still on....</td>\n",
       "      <td>2020-03-20</td>\n",
       "      <td>New Delhi, India</td>\n",
       "      <td>0.000</td>\n",
       "      <td>0</td>\n",
       "      <td>shaheen bagh is still on mosques are open mui...</td>\n",
       "    </tr>\n",
       "  </tbody>\n",
       "</table>\n",
       "</div>"
      ],
      "text/plain": [
       "               Text_Id                                               Text  \\\n",
       "0  1241032866567356417  RT @theskindoctor13: Shaheen Bagh is still on....   \n",
       "1  1241032867699765249  RT @theskindoctor13: Shaheen Bagh is still on....   \n",
       "2  1241032875102703616  RT @SmokingSkills_: Daughter of an IAS, son of...   \n",
       "3  1241032877099237379  RT @narendramodi: The young actors have someth...   \n",
       "4  1241032870405128192  RT @theskindoctor13: Shaheen Bagh is still on....   \n",
       "\n",
       "         Date              Location  Sentiments  New_Sentiments  \\\n",
       "0  2020-03-20  Uttar Pradesh, India       0.000               0   \n",
       "1  2020-03-20                Mumbai       0.000               0   \n",
       "2  2020-03-20        Jodhpur, India       0.350               1   \n",
       "3  2020-03-20      Gurugram, Bharat       0.125               1   \n",
       "4  2020-03-20      New Delhi, India       0.000               0   \n",
       "\n",
       "                                    Regenerated_Text  \n",
       "0   shaheen bagh is still on mosques are open mui...  \n",
       "1   shaheen bagh is still on mosques are open mui...  \n",
       "2   daughter of an ias son of a kolkata officer s...  \n",
       "3   the young actors have something to say its ti...  \n",
       "4   shaheen bagh is still on mosques are open mui...  "
      ]
     },
     "execution_count": 9,
     "metadata": {},
     "output_type": "execute_result"
    }
   ],
   "source": [
    "df.head()"
   ]
  },
  {
   "cell_type": "code",
   "execution_count": 10,
   "metadata": {},
   "outputs": [
    {
     "data": {
      "text/plain": [
       "(648958, 7)"
      ]
     },
     "execution_count": 10,
     "metadata": {},
     "output_type": "execute_result"
    }
   ],
   "source": [
    "df.shape"
   ]
  },
  {
   "cell_type": "markdown",
   "metadata": {},
   "source": [
    "## Model Training"
   ]
  },
  {
   "cell_type": "code",
   "execution_count": 29,
   "metadata": {},
   "outputs": [],
   "source": [
    "def acc_call(y_test, y_pred):\n",
    "    \n",
    "    # Calculating accuracy\n",
    "    acc_score = round(accuracy_score(y_test, y_pred)*100, 2)\n",
    "    f_one_score = round(f1_score(y_test, y_pred, average='weighted')*100, 2)\n",
    "    acc_dict = {'Acc_Score': acc_score, 'F1_Score': f_one_score}\n",
    "    \n",
    "    return acc_dict"
   ]
  },
  {
   "cell_type": "code",
   "execution_count": 12,
   "metadata": {},
   "outputs": [],
   "source": [
    "def con_mat_call(y_test, y_pred):\n",
    "    \n",
    "    # Creating confusion matrix\n",
    "    unique_label = np.unique([y_test, y_pred])\n",
    "    cmtx = pd.DataFrame(\n",
    "        confusion_matrix(y_test, y_pred, labels=unique_label), \n",
    "        index=['true:{:}'.format(x) for x in unique_label], \n",
    "        columns=['pred:{:}'.format(x) for x in unique_label]\n",
    "    )\n",
    "    \n",
    "    return sns.heatmap(cmtx, cbar=False, annot=True, fmt='.2f')"
   ]
  },
  {
   "cell_type": "code",
   "execution_count": 40,
   "metadata": {},
   "outputs": [],
   "source": [
    "def train_textblob(dataframe):\n",
    "    '''This func uses textblob for finding sentiments and returns accuracy '''\n",
    "    \n",
    "    # feed in data to textblob\n",
    "    sentiments = []\n",
    "    for text in dataframe['Regenerated_Text']:\n",
    "        analysis = TextBlob(text)\n",
    "\n",
    "        if analysis.sentiment.polarity > 0:\n",
    "            sentiments.append(1)\n",
    "        elif analysis.sentiment.polarity < 0:\n",
    "            sentiments.append(-1)\n",
    "        else:\n",
    "            sentiments.append(0)\n",
    "    \n",
    "    print(acc_call(dataframe['New_Sentiments'], sentiments))\n",
    "    \n",
    "    return con_mat_call(dataframe['New_Sentiments'], sentiments)"
   ]
  },
  {
   "cell_type": "code",
   "execution_count": 41,
   "metadata": {},
   "outputs": [
    {
     "name": "stdout",
     "output_type": "stream",
     "text": [
      "{'Acc_score': 85.88, 'F1_score': 85.93}\n",
      "AxesSubplot(0.125,0.125;0.775x0.755)\n"
     ]
    },
    {
     "data": {
      "image/png": "[encoded data removed]",
      "text/plain": [
       "<Figure size 432x288 with 1 Axes>"
      ]
     },
     "metadata": {
      "needs_background": "light"
     },
     "output_type": "display_data"
    }
   ],
   "source": [
    "print(train_textblob(df))"
   ]
  },
  {
   "cell_type": "markdown",
   "metadata": {},
   "source": [
    "# Step-2\n",
    "    model training through nlp"
   ]
  },
  {
   "cell_type": "code",
   "execution_count": 13,
   "metadata": {},
   "outputs": [],
   "source": [
    "# tokenization; process for creation of bag of words model.\n",
    "\n",
    "corpus = []\n",
    "for i in range(0, 648958):\n",
    "    review = re.sub('[^a-zA-Z]', ' ', df['Regenerated_Text'][i])\n",
    "    review = review.split()\n",
    "    \n",
    "    # The Porter stemming is used for removing the commoner\n",
    "    # morphological and inflexional endings from words in English.\n",
    "    ps = PorterStemmer()\n",
    "    \n",
    "    # Stopwords is a process of removing unnecessary english words\n",
    "    # that are not took part in npl tasks.\n",
    "    review = [ps.stem(word) for word in review if not word in set(stopwords.words('english'))]\n",
    "    review = ' '.join(review)\n",
    "    corpus.append(review)"
   ]
  },
  {
   "cell_type": "code",
   "execution_count": 14,
   "metadata": {},
   "outputs": [
    {
     "data": {
      "text/plain": [
       "648958"
      ]
     },
     "execution_count": 14,
     "metadata": {},
     "output_type": "execute_result"
    }
   ],
   "source": [
    "len(corpus)"
   ]
  },
  {
   "cell_type": "code",
   "execution_count": 15,
   "metadata": {},
   "outputs": [],
   "source": [
    "# Creating the Bag of Words model\n",
    "from sklearn.feature_extraction.text import CountVectorizer\n",
    "cv = CountVectorizer(max_features=99500)\n",
    "X = cv.fit_transform(corpus)\n",
    "y = df.New_Sentiments.values"
   ]
  },
  {
   "cell_type": "code",
   "execution_count": 16,
   "metadata": {},
   "outputs": [
    {
     "name": "stdout",
     "output_type": "stream",
     "text": [
      "X_shape-->(648958, 99500)\n"
     ]
    }
   ],
   "source": [
    "print(f'X_shape-->{X.shape}')"
   ]
  },
  {
   "cell_type": "code",
   "execution_count": 41,
   "metadata": {},
   "outputs": [
    {
     "name": "stdout",
     "output_type": "stream",
     "text": [
      "X_train_shape-->(454270, 99500); X_test_shape-->(194688, 99500)\n"
     ]
    }
   ],
   "source": [
    "X_train, X_test, y_train, y_test = train_test_split(X, y, test_size=0.3, shuffle=False)\n",
    "print(f'X_train_shape-->{X_train.shape}; X_test_shape-->{X_test.shape}')"
   ]
  },
  {
   "cell_type": "code",
   "execution_count": 51,
   "metadata": {},
   "outputs": [],
   "source": [
    "def checking_models(X_train, X_test, y_train, y_test):\n",
    "    '''This function is used to check accuracy on different models of nlp'''\n",
    "    \n",
    "    # Fitting and predicting logistic regression to the Training set.\n",
    "    logreg_classifier = LogisticRegression()\n",
    "    logreg_classifier.fit(X_train, y_train)\n",
    "    y_pred_logreg_test = logreg_classifier.predict(X_test)\n",
    "    y_pred_logreg_train = logreg_classifier.predict(X_train)\n",
    "    \n",
    "    # Fitting and predicting Naive Bayes to the Training set.\n",
    "    nv_classifier = MultinomialNB()\n",
    "    nv_classifier.fit(X_train, y_train)\n",
    "    y_pred_nv_test = nv_classifier.predict(X_test)\n",
    "    y_pred_nv_train = nv_classifier.predict(X_train)\n",
    "\n",
    "    # Fitting and predicting Decision Tree to Training set.\n",
    "    tree_classifier = DecisionTreeClassifier()\n",
    "    tree_classifier.fit(X_train, y_train)\n",
    "    y_pred_tree_test = tree_classifier.predict(X_test)\n",
    "    y_pred_tree_train = tree_classifier.predict(X_train)\n",
    "    \n",
    "    # Fitting and predicting Random forest to Training set.\n",
    "    ran_classifier = RandomForestClassifier()\n",
    "    ran_classifier.fit(X_train, y_train)\n",
    "    y_pred_ran_test = ran_classifier.predict(X_test)\n",
    "    y_pred_ran_train = ran_classifier.predict(X_train)\n",
    "    \n",
    "    # Accuracy details.\n",
    "    logreg_train_acc = acc_call(y_train, y_pred_logreg_train)\n",
    "    logreg_test_acc = acc_call(y_test, y_pred_logreg_test)\n",
    "    \n",
    "    nv_train_acc = acc_call(y_train, y_pred_nv_train)\n",
    "    nv_test_acc = acc_call(y_test, y_pred_nv_test)\n",
    "    \n",
    "    tree_train_acc = acc_call(y_train, y_pred_tree_train)\n",
    "    tree_test_acc = acc_call(y_test, y_pred_tree_test)\n",
    "    \n",
    "    ran_train_acc = acc_call(y_train, y_pred_ran_train)\n",
    "    ran_test_acc = acc_call(y_test, y_pred_ran_test)\n",
    "    \n",
    "    training_dict = {'Logistic Regression': logreg_train_acc,\n",
    "                     'Naive Bayes': nv_train_acc,\n",
    "                     'Decision Tree': tree_train_acc,\n",
    "                     'Random Forest': ran_train_acc\n",
    "                    }\n",
    "    \n",
    "    test_dict = {'Logistic Regression': logreg_test_acc,\n",
    "                 'Naive Bayes': nv_test_acc,\n",
    "                 'Decision Tree': tree_test_acc,\n",
    "                 'Random Forest': ran_test_acc\n",
    "                }\n",
    "    \n",
    "    print(f'Accuracy Checking for training data:- {training_dict}')\n",
    "    print(f'Accuracy Checking for test data:- {test_dict}')\n",
    "    \n",
    "    # Returning dictionary of every prediction file for later use.\n",
    "    pred_dict = {'Logistic_Regression_pred': [y_pred_logreg_train, y_pred_logreg_test],\n",
    "                 'Naive_Bayes_pred': [y_pred_nv_train, y_pred_nv_test],\n",
    "                 'Decision_Tree_pred': [y_pred_tree_train, y_pred_tree_test],\n",
    "                 'Random_Forest_pred': [y_pred_ran_train, y_pred_ran_test]\n",
    "                }\n",
    "    \n",
    "    return pred_dict"
   ]
  },
  {
   "cell_type": "code",
   "execution_count": 52,
   "metadata": {},
   "outputs": [
    {
     "name": "stderr",
     "output_type": "stream",
     "text": [
      "C:\\Users\\LENOVO\\Anaconda3\\lib\\site-packages\\sklearn\\linear_model\\logistic.py:432: FutureWarning: Default solver will be changed to 'lbfgs' in 0.22. Specify a solver to silence this warning.\n",
      "  FutureWarning)\n",
      "C:\\Users\\LENOVO\\Anaconda3\\lib\\site-packages\\sklearn\\linear_model\\logistic.py:469: FutureWarning: Default multi_class will be changed to 'auto' in 0.22. Specify the multi_class option to silence this warning.\n",
      "  \"this warning.\", FutureWarning)\n",
      "C:\\Users\\LENOVO\\Anaconda3\\lib\\site-packages\\sklearn\\ensemble\\forest.py:245: FutureWarning: The default value of n_estimators will change from 10 in version 0.20 to 100 in 0.22.\n",
      "  \"10 in version 0.20 to 100 in 0.22.\", FutureWarning)\n"
     ]
    },
    {
     "name": "stdout",
     "output_type": "stream",
     "text": [
      "Accuracy Checking for training data:- {'Logistic Regression': {'Acc_Score': 91.38, 'F1_Score': 91.33}, 'Naive Bayes': {'Acc_Score': 83.08, 'F1_Score': 83.07}, 'Decision Tree': {'Acc_Score': 98.28, 'F1_Score': 98.28}, 'Random Forest': {'Acc_Score': 98.08, 'F1_Score': 98.08}}\n",
      "Accuracy Checking for test data:- {'Logistic Regression': {'Acc_Score': 88.22, 'F1_Score': 88.1}, 'Naive Bayes': {'Acc_Score': 79.31, 'F1_Score': 79.19}, 'Decision Tree': {'Acc_Score': 97.71, 'F1_Score': 97.71}, 'Random Forest': {'Acc_Score': 97.25, 'F1_Score': 97.26}}\n"
     ]
    }
   ],
   "source": [
    "all_dict = checking_models(X_train, X_test, y_train, y_test)"
   ]
  },
  {
   "cell_type": "code",
   "execution_count": 56,
   "metadata": {},
   "outputs": [
    {
     "name": "stdout",
     "output_type": "stream",
     "text": [
      "[array([ 0,  0,  1, ..., -1,  0,  0], dtype=int64), array([0, 0, 1, ..., 1, 1, 0], dtype=int64)]\n"
     ]
    }
   ],
   "source": [
    "print(all_dict['Random_Forest_pred'])"
   ]
  },
  {
   "cell_type": "code",
   "execution_count": 59,
   "metadata": {},
   "outputs": [
    {
     "data": {
      "text/plain": [
       "<matplotlib.axes._subplots.AxesSubplot at 0x1118c118a20>"
      ]
     },
     "execution_count": 59,
     "metadata": {},
     "output_type": "execute_result"
    },
    {
     "data": {
      "image/png": "[encoded data removed]",
      "text/plain": [
       "<Figure size 432x288 with 1 Axes>"
      ]
     },
     "metadata": {
      "needs_background": "light"
     },
     "output_type": "display_data"
    }
   ],
   "source": [
    "y_pred = all_dict['Random_Forest_pred'][1]\n",
    "con_mat_call(y_test, y_pred)"
   ]
  },
  {
   "cell_type": "code",
   "execution_count": 64,
   "metadata": {},
   "outputs": [
    {
     "data": {
      "text/plain": [
       "array([0, 0, 1, ..., 1, 1, 0], dtype=int64)"
      ]
     },
     "execution_count": 64,
     "metadata": {},
     "output_type": "execute_result"
    }
   ],
   "source": [
    "sentiments_NLP = np.concatenate((all_dict['Random_Forest_pred'][0], y_pred))\n",
    "sentiments_NLP"
   ]
  },
  {
   "cell_type": "code",
   "execution_count": 67,
   "metadata": {},
   "outputs": [],
   "source": [
    "Date_Sentiments = pd.DataFrame({\n",
    "                                'Date': df['Date'],\n",
    "                                'Sentiments': sentiments_NLP,\n",
    "                               })"
   ]
  },
  {
   "cell_type": "code",
   "execution_count": 68,
   "metadata": {},
   "outputs": [
    {
     "data": {
      "text/html": [
       "<div>\n",
       "<style scoped>\n",
       "    .dataframe tbody tr th:only-of-type {\n",
       "        vertical-align: middle;\n",
       "    }\n",
       "\n",
       "    .dataframe tbody tr th {\n",
       "        vertical-align: top;\n",
       "    }\n",
       "\n",
       "    .dataframe thead th {\n",
       "        text-align: right;\n",
       "    }\n",
       "</style>\n",
       "<table border=\"1\" class=\"dataframe\">\n",
       "  <thead>\n",
       "    <tr style=\"text-align: right;\">\n",
       "      <th></th>\n",
       "      <th>Date</th>\n",
       "      <th>Sentiments</th>\n",
       "    </tr>\n",
       "  </thead>\n",
       "  <tbody>\n",
       "    <tr>\n",
       "      <th>0</th>\n",
       "      <td>2020-03-20</td>\n",
       "      <td>0</td>\n",
       "    </tr>\n",
       "    <tr>\n",
       "      <th>1</th>\n",
       "      <td>2020-03-20</td>\n",
       "      <td>0</td>\n",
       "    </tr>\n",
       "    <tr>\n",
       "      <th>2</th>\n",
       "      <td>2020-03-20</td>\n",
       "      <td>1</td>\n",
       "    </tr>\n",
       "    <tr>\n",
       "      <th>3</th>\n",
       "      <td>2020-03-20</td>\n",
       "      <td>1</td>\n",
       "    </tr>\n",
       "    <tr>\n",
       "      <th>4</th>\n",
       "      <td>2020-03-20</td>\n",
       "      <td>0</td>\n",
       "    </tr>\n",
       "  </tbody>\n",
       "</table>\n",
       "</div>"
      ],
      "text/plain": [
       "         Date  Sentiments\n",
       "0  2020-03-20           0\n",
       "1  2020-03-20           0\n",
       "2  2020-03-20           1\n",
       "3  2020-03-20           1\n",
       "4  2020-03-20           0"
      ]
     },
     "execution_count": 68,
     "metadata": {},
     "output_type": "execute_result"
    }
   ],
   "source": [
    "Date_Sentiments.head()"
   ]
  },
  {
   "cell_type": "code",
   "execution_count": 69,
   "metadata": {},
   "outputs": [],
   "source": [
    "Date_Sentiments.to_csv('Date_Sentiments.csv', index=False)"
   ]
  }
 ],
 "metadata": {
  "kernelspec": {
   "display_name": "Python 3",
   "language": "python",
   "name": "python3"
  },
  "language_info": {
   "codemirror_mode": {
    "name": "ipython",
    "version": 3
   },
   "file_extension": ".py",
   "mimetype": "text/x-python",
   "name": "python",
   "nbconvert_exporter": "python",
   "pygments_lexer": "ipython3",
   "version": "3.7.3"
  }
 },
 "nbformat": 4,
 "nbformat_minor": 2
}
